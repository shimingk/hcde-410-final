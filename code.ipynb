{
 "cells": [
  {
   "cell_type": "markdown",
   "id": "0458070a-c3b4-49f1-a895-77f7cfbe6ea4",
   "metadata": {},
   "source": [
    "# Code behind the project"
   ]
  },
  {
   "cell_type": "markdown",
   "id": "3dddf30a-979d-4a80-92b8-c79e80d02ce0",
   "metadata": {},
   "source": [
    "This notebook takes in the `nbaallelo.csv` dataset from FiveThirtyEight to process **elo** ratings and changes of the *Boston Celtics* and *Los Angeles Lakers* with emphasis on NBA star acquistions from each team (*Bill Russell*, *Kobe Bryant*, etc.)"
   ]
  },
  {
   "cell_type": "code",
   "execution_count": 69,
   "id": "593fccfd-b3b0-42af-b841-4e8660a80b95",
   "metadata": {},
   "outputs": [],
   "source": [
    "import pandas as pd\n",
    "import numpy as np\n",
    "import matplotlib.pyplot as plt\n",
    "import datetime"
   ]
  },
  {
   "cell_type": "code",
   "execution_count": 11,
   "id": "ff48a4ff-c6dc-4528-8f1e-f23e75a21ad7",
   "metadata": {},
   "outputs": [
    {
     "data": {
      "text/html": [
       "<div>\n",
       "<style scoped>\n",
       "    .dataframe tbody tr th:only-of-type {\n",
       "        vertical-align: middle;\n",
       "    }\n",
       "\n",
       "    .dataframe tbody tr th {\n",
       "        vertical-align: top;\n",
       "    }\n",
       "\n",
       "    .dataframe thead th {\n",
       "        text-align: right;\n",
       "    }\n",
       "</style>\n",
       "<table border=\"1\" class=\"dataframe\">\n",
       "  <thead>\n",
       "    <tr style=\"text-align: right;\">\n",
       "      <th></th>\n",
       "      <th>gameorder</th>\n",
       "      <th>game_id</th>\n",
       "      <th>lg_id</th>\n",
       "      <th>_iscopy</th>\n",
       "      <th>year_id</th>\n",
       "      <th>date_game</th>\n",
       "      <th>seasongame</th>\n",
       "      <th>is_playoffs</th>\n",
       "      <th>team_id</th>\n",
       "      <th>fran_id</th>\n",
       "      <th>...</th>\n",
       "      <th>win_equiv</th>\n",
       "      <th>opp_id</th>\n",
       "      <th>opp_fran</th>\n",
       "      <th>opp_pts</th>\n",
       "      <th>opp_elo_i</th>\n",
       "      <th>opp_elo_n</th>\n",
       "      <th>game_location</th>\n",
       "      <th>game_result</th>\n",
       "      <th>forecast</th>\n",
       "      <th>notes</th>\n",
       "    </tr>\n",
       "  </thead>\n",
       "  <tbody>\n",
       "    <tr>\n",
       "      <th>0</th>\n",
       "      <td>1</td>\n",
       "      <td>194611010TRH</td>\n",
       "      <td>NBA</td>\n",
       "      <td>0</td>\n",
       "      <td>1947</td>\n",
       "      <td>11/1/1946</td>\n",
       "      <td>1</td>\n",
       "      <td>0</td>\n",
       "      <td>TRH</td>\n",
       "      <td>Huskies</td>\n",
       "      <td>...</td>\n",
       "      <td>40.294830</td>\n",
       "      <td>NYK</td>\n",
       "      <td>Knicks</td>\n",
       "      <td>68</td>\n",
       "      <td>1300.0000</td>\n",
       "      <td>1306.7233</td>\n",
       "      <td>H</td>\n",
       "      <td>L</td>\n",
       "      <td>0.640065</td>\n",
       "      <td>NaN</td>\n",
       "    </tr>\n",
       "    <tr>\n",
       "      <th>1</th>\n",
       "      <td>1</td>\n",
       "      <td>194611010TRH</td>\n",
       "      <td>NBA</td>\n",
       "      <td>1</td>\n",
       "      <td>1947</td>\n",
       "      <td>11/1/1946</td>\n",
       "      <td>1</td>\n",
       "      <td>0</td>\n",
       "      <td>NYK</td>\n",
       "      <td>Knicks</td>\n",
       "      <td>...</td>\n",
       "      <td>41.705170</td>\n",
       "      <td>TRH</td>\n",
       "      <td>Huskies</td>\n",
       "      <td>66</td>\n",
       "      <td>1300.0000</td>\n",
       "      <td>1293.2767</td>\n",
       "      <td>A</td>\n",
       "      <td>W</td>\n",
       "      <td>0.359935</td>\n",
       "      <td>NaN</td>\n",
       "    </tr>\n",
       "    <tr>\n",
       "      <th>2</th>\n",
       "      <td>2</td>\n",
       "      <td>194611020CHS</td>\n",
       "      <td>NBA</td>\n",
       "      <td>0</td>\n",
       "      <td>1947</td>\n",
       "      <td>11/2/1946</td>\n",
       "      <td>1</td>\n",
       "      <td>0</td>\n",
       "      <td>CHS</td>\n",
       "      <td>Stags</td>\n",
       "      <td>...</td>\n",
       "      <td>42.012257</td>\n",
       "      <td>NYK</td>\n",
       "      <td>Knicks</td>\n",
       "      <td>47</td>\n",
       "      <td>1306.7233</td>\n",
       "      <td>1297.0712</td>\n",
       "      <td>H</td>\n",
       "      <td>W</td>\n",
       "      <td>0.631101</td>\n",
       "      <td>NaN</td>\n",
       "    </tr>\n",
       "    <tr>\n",
       "      <th>3</th>\n",
       "      <td>2</td>\n",
       "      <td>194611020CHS</td>\n",
       "      <td>NBA</td>\n",
       "      <td>1</td>\n",
       "      <td>1947</td>\n",
       "      <td>11/2/1946</td>\n",
       "      <td>2</td>\n",
       "      <td>0</td>\n",
       "      <td>NYK</td>\n",
       "      <td>Knicks</td>\n",
       "      <td>...</td>\n",
       "      <td>40.692783</td>\n",
       "      <td>CHS</td>\n",
       "      <td>Stags</td>\n",
       "      <td>63</td>\n",
       "      <td>1300.0000</td>\n",
       "      <td>1309.6521</td>\n",
       "      <td>A</td>\n",
       "      <td>L</td>\n",
       "      <td>0.368899</td>\n",
       "      <td>NaN</td>\n",
       "    </tr>\n",
       "    <tr>\n",
       "      <th>4</th>\n",
       "      <td>3</td>\n",
       "      <td>194611020DTF</td>\n",
       "      <td>NBA</td>\n",
       "      <td>0</td>\n",
       "      <td>1947</td>\n",
       "      <td>11/2/1946</td>\n",
       "      <td>1</td>\n",
       "      <td>0</td>\n",
       "      <td>DTF</td>\n",
       "      <td>Falcons</td>\n",
       "      <td>...</td>\n",
       "      <td>38.864048</td>\n",
       "      <td>WSC</td>\n",
       "      <td>Capitols</td>\n",
       "      <td>50</td>\n",
       "      <td>1300.0000</td>\n",
       "      <td>1320.3811</td>\n",
       "      <td>H</td>\n",
       "      <td>L</td>\n",
       "      <td>0.640065</td>\n",
       "      <td>NaN</td>\n",
       "    </tr>\n",
       "    <tr>\n",
       "      <th>...</th>\n",
       "      <td>...</td>\n",
       "      <td>...</td>\n",
       "      <td>...</td>\n",
       "      <td>...</td>\n",
       "      <td>...</td>\n",
       "      <td>...</td>\n",
       "      <td>...</td>\n",
       "      <td>...</td>\n",
       "      <td>...</td>\n",
       "      <td>...</td>\n",
       "      <td>...</td>\n",
       "      <td>...</td>\n",
       "      <td>...</td>\n",
       "      <td>...</td>\n",
       "      <td>...</td>\n",
       "      <td>...</td>\n",
       "      <td>...</td>\n",
       "      <td>...</td>\n",
       "      <td>...</td>\n",
       "      <td>...</td>\n",
       "      <td>...</td>\n",
       "    </tr>\n",
       "    <tr>\n",
       "      <th>126309</th>\n",
       "      <td>63155</td>\n",
       "      <td>201506110CLE</td>\n",
       "      <td>NBA</td>\n",
       "      <td>0</td>\n",
       "      <td>2015</td>\n",
       "      <td>6/11/2015</td>\n",
       "      <td>100</td>\n",
       "      <td>1</td>\n",
       "      <td>CLE</td>\n",
       "      <td>Cavaliers</td>\n",
       "      <td>...</td>\n",
       "      <td>60.309792</td>\n",
       "      <td>GSW</td>\n",
       "      <td>Warriors</td>\n",
       "      <td>103</td>\n",
       "      <td>1790.9591</td>\n",
       "      <td>1809.9791</td>\n",
       "      <td>H</td>\n",
       "      <td>L</td>\n",
       "      <td>0.546572</td>\n",
       "      <td>NaN</td>\n",
       "    </tr>\n",
       "    <tr>\n",
       "      <th>126310</th>\n",
       "      <td>63156</td>\n",
       "      <td>201506140GSW</td>\n",
       "      <td>NBA</td>\n",
       "      <td>0</td>\n",
       "      <td>2015</td>\n",
       "      <td>6/14/2015</td>\n",
       "      <td>102</td>\n",
       "      <td>1</td>\n",
       "      <td>GSW</td>\n",
       "      <td>Warriors</td>\n",
       "      <td>...</td>\n",
       "      <td>68.013329</td>\n",
       "      <td>CLE</td>\n",
       "      <td>Cavaliers</td>\n",
       "      <td>91</td>\n",
       "      <td>1704.3949</td>\n",
       "      <td>1700.7391</td>\n",
       "      <td>H</td>\n",
       "      <td>W</td>\n",
       "      <td>0.765565</td>\n",
       "      <td>NaN</td>\n",
       "    </tr>\n",
       "    <tr>\n",
       "      <th>126311</th>\n",
       "      <td>63156</td>\n",
       "      <td>201506140GSW</td>\n",
       "      <td>NBA</td>\n",
       "      <td>1</td>\n",
       "      <td>2015</td>\n",
       "      <td>6/14/2015</td>\n",
       "      <td>101</td>\n",
       "      <td>1</td>\n",
       "      <td>CLE</td>\n",
       "      <td>Cavaliers</td>\n",
       "      <td>...</td>\n",
       "      <td>60.010067</td>\n",
       "      <td>GSW</td>\n",
       "      <td>Warriors</td>\n",
       "      <td>104</td>\n",
       "      <td>1809.9791</td>\n",
       "      <td>1813.6349</td>\n",
       "      <td>A</td>\n",
       "      <td>L</td>\n",
       "      <td>0.234435</td>\n",
       "      <td>NaN</td>\n",
       "    </tr>\n",
       "    <tr>\n",
       "      <th>126312</th>\n",
       "      <td>63157</td>\n",
       "      <td>201506170CLE</td>\n",
       "      <td>NBA</td>\n",
       "      <td>0</td>\n",
       "      <td>2015</td>\n",
       "      <td>6/16/2015</td>\n",
       "      <td>102</td>\n",
       "      <td>1</td>\n",
       "      <td>CLE</td>\n",
       "      <td>Cavaliers</td>\n",
       "      <td>...</td>\n",
       "      <td>59.290245</td>\n",
       "      <td>GSW</td>\n",
       "      <td>Warriors</td>\n",
       "      <td>105</td>\n",
       "      <td>1813.6349</td>\n",
       "      <td>1822.2881</td>\n",
       "      <td>H</td>\n",
       "      <td>L</td>\n",
       "      <td>0.481450</td>\n",
       "      <td>NaN</td>\n",
       "    </tr>\n",
       "    <tr>\n",
       "      <th>126313</th>\n",
       "      <td>63157</td>\n",
       "      <td>201506170CLE</td>\n",
       "      <td>NBA</td>\n",
       "      <td>1</td>\n",
       "      <td>2015</td>\n",
       "      <td>6/16/2015</td>\n",
       "      <td>103</td>\n",
       "      <td>1</td>\n",
       "      <td>GSW</td>\n",
       "      <td>Warriors</td>\n",
       "      <td>...</td>\n",
       "      <td>68.519516</td>\n",
       "      <td>CLE</td>\n",
       "      <td>Cavaliers</td>\n",
       "      <td>97</td>\n",
       "      <td>1700.7391</td>\n",
       "      <td>1692.0859</td>\n",
       "      <td>A</td>\n",
       "      <td>W</td>\n",
       "      <td>0.518550</td>\n",
       "      <td>NaN</td>\n",
       "    </tr>\n",
       "  </tbody>\n",
       "</table>\n",
       "<p>126314 rows × 23 columns</p>\n",
       "</div>"
      ],
      "text/plain": [
       "        gameorder       game_id lg_id  _iscopy  year_id  date_game  \\\n",
       "0               1  194611010TRH   NBA        0     1947  11/1/1946   \n",
       "1               1  194611010TRH   NBA        1     1947  11/1/1946   \n",
       "2               2  194611020CHS   NBA        0     1947  11/2/1946   \n",
       "3               2  194611020CHS   NBA        1     1947  11/2/1946   \n",
       "4               3  194611020DTF   NBA        0     1947  11/2/1946   \n",
       "...           ...           ...   ...      ...      ...        ...   \n",
       "126309      63155  201506110CLE   NBA        0     2015  6/11/2015   \n",
       "126310      63156  201506140GSW   NBA        0     2015  6/14/2015   \n",
       "126311      63156  201506140GSW   NBA        1     2015  6/14/2015   \n",
       "126312      63157  201506170CLE   NBA        0     2015  6/16/2015   \n",
       "126313      63157  201506170CLE   NBA        1     2015  6/16/2015   \n",
       "\n",
       "        seasongame  is_playoffs team_id    fran_id  ...  win_equiv  opp_id  \\\n",
       "0                1            0     TRH    Huskies  ...  40.294830     NYK   \n",
       "1                1            0     NYK     Knicks  ...  41.705170     TRH   \n",
       "2                1            0     CHS      Stags  ...  42.012257     NYK   \n",
       "3                2            0     NYK     Knicks  ...  40.692783     CHS   \n",
       "4                1            0     DTF    Falcons  ...  38.864048     WSC   \n",
       "...            ...          ...     ...        ...  ...        ...     ...   \n",
       "126309         100            1     CLE  Cavaliers  ...  60.309792     GSW   \n",
       "126310         102            1     GSW   Warriors  ...  68.013329     CLE   \n",
       "126311         101            1     CLE  Cavaliers  ...  60.010067     GSW   \n",
       "126312         102            1     CLE  Cavaliers  ...  59.290245     GSW   \n",
       "126313         103            1     GSW   Warriors  ...  68.519516     CLE   \n",
       "\n",
       "         opp_fran  opp_pts  opp_elo_i  opp_elo_n  game_location  game_result  \\\n",
       "0          Knicks       68  1300.0000  1306.7233              H            L   \n",
       "1         Huskies       66  1300.0000  1293.2767              A            W   \n",
       "2          Knicks       47  1306.7233  1297.0712              H            W   \n",
       "3           Stags       63  1300.0000  1309.6521              A            L   \n",
       "4        Capitols       50  1300.0000  1320.3811              H            L   \n",
       "...           ...      ...        ...        ...            ...          ...   \n",
       "126309   Warriors      103  1790.9591  1809.9791              H            L   \n",
       "126310  Cavaliers       91  1704.3949  1700.7391              H            W   \n",
       "126311   Warriors      104  1809.9791  1813.6349              A            L   \n",
       "126312   Warriors      105  1813.6349  1822.2881              H            L   \n",
       "126313  Cavaliers       97  1700.7391  1692.0859              A            W   \n",
       "\n",
       "        forecast notes  \n",
       "0       0.640065   NaN  \n",
       "1       0.359935   NaN  \n",
       "2       0.631101   NaN  \n",
       "3       0.368899   NaN  \n",
       "4       0.640065   NaN  \n",
       "...          ...   ...  \n",
       "126309  0.546572   NaN  \n",
       "126310  0.765565   NaN  \n",
       "126311  0.234435   NaN  \n",
       "126312  0.481450   NaN  \n",
       "126313  0.518550   NaN  \n",
       "\n",
       "[126314 rows x 23 columns]"
      ]
     },
     "execution_count": 11,
     "metadata": {},
     "output_type": "execute_result"
    }
   ],
   "source": [
    "pd.read_csv('nbaallelo.csv')"
   ]
  },
  {
   "cell_type": "code",
   "execution_count": 13,
   "id": "64b05ba6-d8b9-4a2a-88b8-80178a8e45f8",
   "metadata": {},
   "outputs": [],
   "source": [
    "df = pd.read_csv('nbaallelo.csv')"
   ]
  },
  {
   "cell_type": "code",
   "execution_count": 28,
   "id": "02ebf16d-2879-43f5-84a9-ee3ff70afecb",
   "metadata": {},
   "outputs": [],
   "source": [
    "no_dupes = df[df['_iscopy'] == 0]"
   ]
  },
  {
   "cell_type": "markdown",
   "id": "302975de-21b2-4adb-9c2c-30530574a081",
   "metadata": {
    "tags": []
   },
   "source": [
    "## Filter for Celtics"
   ]
  },
  {
   "cell_type": "code",
   "execution_count": null,
   "id": "0b4c35c8-74aa-4638-9424-bdcb38a5ba31",
   "metadata": {},
   "outputs": [],
   "source": [
    "celtics = no_dupes[no_dupes['team_id'].str.contains('BOS')]\n",
    "print(celtics)"
   ]
  },
  {
   "cell_type": "markdown",
   "id": "480a1be1-e0ce-42c2-9257-6b65630a7d38",
   "metadata": {},
   "source": [
    "### Bill Russell"
   ]
  },
  {
   "cell_type": "code",
   "execution_count": 50,
   "id": "b2330d2b-431e-42ca-8637-fad6e3036e3a",
   "metadata": {},
   "outputs": [],
   "source": [
    "br = 0"
   ]
  },
  {
   "cell_type": "code",
   "execution_count": 52,
   "id": "ebd8f4da-fea1-4bc7-ac12-a84a9508dc98",
   "metadata": {},
   "outputs": [
    {
     "name": "stdout",
     "output_type": "stream",
     "text": [
      "183.194199999999\n"
     ]
    }
   ],
   "source": [
    "# 1957\n",
    "br += (celtics[celtics['year_id'] == 1957]['elo_n'] - celtics[celtics['year_id'] == 1957]['elo_i']).sum()\n",
    "print(br)"
   ]
  },
  {
   "cell_type": "code",
   "execution_count": 53,
   "id": "1b08a64a-a4cc-4469-b648-cdf27bcb518a",
   "metadata": {},
   "outputs": [
    {
     "name": "stdout",
     "output_type": "stream",
     "text": [
      "307.19329999999945\n"
     ]
    }
   ],
   "source": [
    "# 1959\n",
    "br += (celtics[celtics['year_id'] == 1959]['elo_n'] - celtics[celtics['year_id'] == 1959]['elo_i']).sum()\n",
    "print(br)"
   ]
  },
  {
   "cell_type": "code",
   "execution_count": 54,
   "id": "55d1a533-b799-4c32-86f8-a4a7204d0b77",
   "metadata": {},
   "outputs": [
    {
     "name": "stdout",
     "output_type": "stream",
     "text": [
      "281.63689999999883\n"
     ]
    }
   ],
   "source": [
    "# 1960\n",
    "br += (celtics[celtics['year_id'] == 1960]['elo_n'] - celtics[celtics['year_id'] == 1960]['elo_i']).sum()\n",
    "print(br)"
   ]
  },
  {
   "cell_type": "code",
   "execution_count": 55,
   "id": "e73844cf-1734-4cb9-b192-99472bbd12fc",
   "metadata": {},
   "outputs": [
    {
     "name": "stdout",
     "output_type": "stream",
     "text": [
      "235.00009999999838\n"
     ]
    }
   ],
   "source": [
    "# 1961\n",
    "br += (celtics[celtics['year_id'] == 1961]['elo_n'] - celtics[celtics['year_id'] == 1961]['elo_i']).sum()\n",
    "print(br)"
   ]
  },
  {
   "cell_type": "code",
   "execution_count": 56,
   "id": "6214bef5-e125-407e-8e65-baede0e62f16",
   "metadata": {},
   "outputs": [
    {
     "name": "stdout",
     "output_type": "stream",
     "text": [
      "262.9387999999981\n"
     ]
    }
   ],
   "source": [
    "# 1962\n",
    "br += (celtics[celtics['year_id'] == 1962]['elo_n'] - celtics[celtics['year_id'] == 1962]['elo_i']).sum()\n",
    "print(br)"
   ]
  },
  {
   "cell_type": "code",
   "execution_count": 57,
   "id": "6a3efddb-541d-4844-b586-678f1bbaae0a",
   "metadata": {},
   "outputs": [
    {
     "name": "stdout",
     "output_type": "stream",
     "text": [
      "259.5213999999985\n"
     ]
    }
   ],
   "source": [
    "# 1963\n",
    "br += (celtics[celtics['year_id'] == 1963]['elo_n'] - celtics[celtics['year_id'] == 1963]['elo_i']).sum()\n",
    "print(br)"
   ]
  },
  {
   "cell_type": "code",
   "execution_count": 58,
   "id": "717065e3-57bb-4e4d-bdfc-8184b91f0130",
   "metadata": {},
   "outputs": [
    {
     "name": "stdout",
     "output_type": "stream",
     "text": [
      "360.49429999999825\n"
     ]
    }
   ],
   "source": [
    "# 1964\n",
    "br += (celtics[celtics['year_id'] == 1964]['elo_n'] - celtics[celtics['year_id'] == 1964]['elo_i']).sum()\n",
    "print(br)"
   ]
  },
  {
   "cell_type": "code",
   "execution_count": 59,
   "id": "0ee164f2-d364-4b0d-bd4b-1e9ae0b7ede2",
   "metadata": {},
   "outputs": [
    {
     "name": "stdout",
     "output_type": "stream",
     "text": [
      "393.65019999999754\n"
     ]
    }
   ],
   "source": [
    "# 1965\n",
    "br += (celtics[celtics['year_id'] == 1965]['elo_n'] - celtics[celtics['year_id'] == 1965]['elo_i']).sum()\n",
    "print(br)"
   ]
  },
  {
   "cell_type": "code",
   "execution_count": 60,
   "id": "d0fe3a3e-4c33-4804-ba6b-5924a6e42337",
   "metadata": {},
   "outputs": [
    {
     "name": "stdout",
     "output_type": "stream",
     "text": [
      "381.9887999999971\n"
     ]
    }
   ],
   "source": [
    "# 1966\n",
    "br += (celtics[celtics['year_id'] == 1966]['elo_n'] - celtics[celtics['year_id'] == 1966]['elo_i']).sum()\n",
    "print(br)"
   ]
  },
  {
   "cell_type": "code",
   "execution_count": 61,
   "id": "5eab0f5f-ceda-4d77-be80-bf84e261afb6",
   "metadata": {},
   "outputs": [
    {
     "name": "stdout",
     "output_type": "stream",
     "text": [
      "225.1443999999974\n"
     ]
    }
   ],
   "source": [
    "# 1968\n",
    "br += (celtics[celtics['year_id'] == 1968]['elo_n'] - celtics[celtics['year_id'] == 1968]['elo_i']).sum()\n",
    "print(br)"
   ]
  },
  {
   "cell_type": "code",
   "execution_count": 62,
   "id": "6e3fd463-2f35-4e0c-b4d4-d9ca9a954e5d",
   "metadata": {},
   "outputs": [
    {
     "name": "stdout",
     "output_type": "stream",
     "text": [
      "178.84829999999715\n"
     ]
    }
   ],
   "source": [
    "# 1969\n",
    "br += (celtics[celtics['year_id'] == 1969]['elo_n'] - celtics[celtics['year_id'] == 1969]['elo_i']).sum()\n",
    "print(br)"
   ]
  },
  {
   "cell_type": "markdown",
   "id": "46b79ba1-84ca-4b17-a18d-b99f279b7333",
   "metadata": {},
   "source": [
    "Net Change in Elo for Bill Russell: **178.84829999999715**"
   ]
  },
  {
   "cell_type": "markdown",
   "id": "27b8efd7-38e9-443b-a83e-5289bb6cb891",
   "metadata": {},
   "source": [
    "#### Average Elo per Championship Season"
   ]
  },
  {
   "cell_type": "code",
   "execution_count": 136,
   "id": "1e2c070a-5b3a-4cb1-886e-0ae38ac155c2",
   "metadata": {},
   "outputs": [
    {
     "name": "stdout",
     "output_type": "stream",
     "text": [
      "7.9319272727270596\n"
     ]
    }
   ],
   "source": [
    "br_avg = [\n",
    "    (celtics[celtics['year_id'] == 1957]['elo_n'] - celtics[celtics['year_id'] == 1957]['elo_i']).sum(),\n",
    "    (celtics[celtics['year_id'] == 1959]['elo_n'] - celtics[celtics['year_id'] == 1959]['elo_i']).sum(),\n",
    "    (celtics[celtics['year_id'] == 1960]['elo_n'] - celtics[celtics['year_id'] == 1960]['elo_i']).sum(),\n",
    "    (celtics[celtics['year_id'] == 1961]['elo_n'] - celtics[celtics['year_id'] == 1961]['elo_i']).sum(),\n",
    "    (celtics[celtics['year_id'] == 1962]['elo_n'] - celtics[celtics['year_id'] == 1962]['elo_i']).sum(),\n",
    "    (celtics[celtics['year_id'] == 1963]['elo_n'] - celtics[celtics['year_id'] == 1963]['elo_i']).sum(),\n",
    "    (celtics[celtics['year_id'] == 1964]['elo_n'] - celtics[celtics['year_id'] == 1964]['elo_i']).sum(),\n",
    "    (celtics[celtics['year_id'] == 1965]['elo_n'] - celtics[celtics['year_id'] == 1965]['elo_i']).sum(),\n",
    "    (celtics[celtics['year_id'] == 1966]['elo_n'] - celtics[celtics['year_id'] == 1966]['elo_i']).sum(),\n",
    "    (celtics[celtics['year_id'] == 1968]['elo_n'] - celtics[celtics['year_id'] == 1968]['elo_i']).sum(),\n",
    "    (celtics[celtics['year_id'] == 1969]['elo_n'] - celtics[celtics['year_id'] == 1969]['elo_i']).sum()\n",
    "]\n",
    "print(sum(br_avg)/len(br_avg))"
   ]
  },
  {
   "cell_type": "markdown",
   "id": "9c75d2f0-e833-425a-af75-181590f9383c",
   "metadata": {},
   "source": [
    "#### Data Visualization"
   ]
  },
  {
   "cell_type": "code",
   "execution_count": 83,
   "id": "001b2e35-203b-4e0d-9bb4-b5beb0a04320",
   "metadata": {},
   "outputs": [],
   "source": [
    "celtics_1969 = celtics[celtics['year_id'] == 1969][['elo_n', 'date_game']]"
   ]
  },
  {
   "cell_type": "code",
   "execution_count": null,
   "id": "51c31339-a27a-4f5d-9309-44d661f49d8f",
   "metadata": {},
   "outputs": [],
   "source": [
    "print(type(celtics_1969))\n",
    "print(celtics_1969)"
   ]
  },
  {
   "cell_type": "code",
   "execution_count": 138,
   "id": "9837674a-4d7a-4db3-b027-5a9d65a6989a",
   "metadata": {},
   "outputs": [
    {
     "data": {
      "image/png": "[encoded data removed]",
      "text/plain": [
       "<Figure size 720x360 with 1 Axes>"
      ]
     },
     "metadata": {
      "needs_background": "light"
     },
     "output_type": "display_data"
    }
   ],
   "source": [
    "fig, ax = plt.subplots(figsize=(10, 5))\n",
    "ax.plot(celtics_1969['date_game'], celtics_1969['elo_n']);\n",
    "c_69_labels = ['10/23/1968', '5/3/1969']\n",
    "plt.xticks(c_69_labels)\n",
    "plt.title(\"Celtics '69 Season\")\n",
    "plt.xlabel(\"Game Date\")\n",
    "plt.ylabel(\"Elo\")\n",
    "plt.show()"
   ]
  },
  {
   "cell_type": "markdown",
   "id": "e8dba53f-9a44-4382-a258-bf7ea95592f8",
   "metadata": {
    "tags": []
   },
   "source": [
    "## Filter for Lakers"
   ]
  },
  {
   "cell_type": "code",
   "execution_count": null,
   "id": "db0b1811-a523-4df7-b880-d37ee215dc19",
   "metadata": {},
   "outputs": [],
   "source": [
    "lakers = no_dupes[no_dupes['team_id'].str.contains('LAL')]\n",
    "print(lakers)"
   ]
  },
  {
   "cell_type": "markdown",
   "id": "8dcb6352-b744-41e7-9771-61041c84dfd2",
   "metadata": {},
   "source": [
    "### Kobe Bryant"
   ]
  },
  {
   "cell_type": "code",
   "execution_count": 122,
   "id": "b7406fc9-e969-45e1-861c-63affb375700",
   "metadata": {},
   "outputs": [],
   "source": [
    "kb = 0"
   ]
  },
  {
   "cell_type": "code",
   "execution_count": 123,
   "id": "416eef08-da9f-4c48-a402-1f1023fc6da4",
   "metadata": {},
   "outputs": [
    {
     "name": "stdout",
     "output_type": "stream",
     "text": [
      "64.69630000000006\n"
     ]
    }
   ],
   "source": [
    "# 2000\n",
    "kb += (lakers[lakers['year_id'] == 2000]['elo_n'] - lakers[lakers['year_id'] == 2000]['elo_i']).sum()\n",
    "print(kb)"
   ]
  },
  {
   "cell_type": "code",
   "execution_count": 124,
   "id": "b31f0865-a759-42f9-ae2b-c02f121a63b3",
   "metadata": {},
   "outputs": [
    {
     "name": "stdout",
     "output_type": "stream",
     "text": [
      "45.040099999999256\n"
     ]
    }
   ],
   "source": [
    "# 2001\n",
    "kb += (lakers[lakers['year_id'] == 2001]['elo_n'] - lakers[lakers['year_id'] == 2001]['elo_i']).sum()\n",
    "print(kb)"
   ]
  },
  {
   "cell_type": "code",
   "execution_count": 125,
   "id": "ddf91cec-73a4-4ebf-84e6-86bf32ffd9da",
   "metadata": {},
   "outputs": [
    {
     "name": "stdout",
     "output_type": "stream",
     "text": [
      "37.506599999999935\n"
     ]
    }
   ],
   "source": [
    "# 2002\n",
    "kb += (lakers[lakers['year_id'] == 2002]['elo_n'] - lakers[lakers['year_id'] == 2002]['elo_i']).sum()\n",
    "print(kb)"
   ]
  },
  {
   "cell_type": "code",
   "execution_count": 126,
   "id": "437c75df-94bf-414b-9ec6-1fae46943141",
   "metadata": {},
   "outputs": [
    {
     "name": "stdout",
     "output_type": "stream",
     "text": [
      "100.43559999999934\n"
     ]
    }
   ],
   "source": [
    "# 2009\n",
    "kb += (lakers[lakers['year_id'] == 2009]['elo_n'] - lakers[lakers['year_id'] == 2009]['elo_i']).sum()\n",
    "print(kb)"
   ]
  },
  {
   "cell_type": "code",
   "execution_count": 127,
   "id": "013eea20-c1b9-4fea-9bd3-9039010cd09e",
   "metadata": {},
   "outputs": [
    {
     "name": "stdout",
     "output_type": "stream",
     "text": [
      "143.52789999999936\n"
     ]
    }
   ],
   "source": [
    "# 2010\n",
    "kb += (lakers[lakers['year_id'] == 2010]['elo_n'] - lakers[lakers['year_id'] == 2010]['elo_i']).sum()\n",
    "print(kb)"
   ]
  },
  {
   "cell_type": "markdown",
   "id": "cc9405ed-9d24-45e5-8f75-9e23fe686a3e",
   "metadata": {},
   "source": [
    "Net Change in Elo for Kobe Bryant: **143.52789999999936** *"
   ]
  },
  {
   "cell_type": "markdown",
   "id": "4d2a1426-4a1e-41d7-a4b6-8dc1a553686b",
   "metadata": {},
   "source": [
    "#### Average Elo per Championship Season"
   ]
  },
  {
   "cell_type": "code",
   "execution_count": 134,
   "id": "3eab7fc7-8a23-423e-bff8-ed27d17fd796",
   "metadata": {},
   "outputs": [
    {
     "name": "stdout",
     "output_type": "stream",
     "text": [
      "28.705579999999873\n"
     ]
    }
   ],
   "source": [
    "kb_avg = [\n",
    "    (lakers[lakers['year_id'] == 2000]['elo_n'] - lakers[lakers['year_id'] == 2000]['elo_i']).sum(),\n",
    "    (lakers[lakers['year_id'] == 2001]['elo_n'] - lakers[lakers['year_id'] == 2001]['elo_i']).sum(),\n",
    "    (lakers[lakers['year_id'] == 2002]['elo_n'] - lakers[lakers['year_id'] == 2002]['elo_i']).sum(),\n",
    "    (lakers[lakers['year_id'] == 2009]['elo_n'] - lakers[lakers['year_id'] == 2009]['elo_i']).sum(),\n",
    "    (lakers[lakers['year_id'] == 2010]['elo_n'] - lakers[lakers['year_id'] == 2010]['elo_i']).sum()\n",
    "]\n",
    "print(sum(kb_avg)/len(kb_avg))"
   ]
  },
  {
   "cell_type": "markdown",
   "id": "c4f33654-d614-4099-8744-0f30353a3f36",
   "metadata": {},
   "source": [
    "#### Data Visualization"
   ]
  },
  {
   "cell_type": "code",
   "execution_count": 128,
   "id": "2f7dd0fe-8bb9-4053-8684-97e9876b1722",
   "metadata": {},
   "outputs": [],
   "source": [
    "lakers_2010 = lakers[lakers['year_id'] == 2010][['elo_n', 'date_game']]"
   ]
  },
  {
   "cell_type": "code",
   "execution_count": null,
   "id": "cfdf3b19-2871-4453-bac7-91d84048596e",
   "metadata": {},
   "outputs": [],
   "source": [
    "print(lakers_2010)"
   ]
  },
  {
   "cell_type": "code",
   "execution_count": 137,
   "id": "5ca9d04a-e101-4eca-af8b-658349d03332",
   "metadata": {},
   "outputs": [
    {
     "data": {
      "image/png": "[encoded data removed]",
      "text/plain": [
       "<Figure size 720x360 with 1 Axes>"
      ]
     },
     "metadata": {
      "needs_background": "light"
     },
     "output_type": "display_data"
    }
   ],
   "source": [
    "fig, ax = plt.subplots(figsize=(10, 5))\n",
    "ax.plot(lakers_2010['date_game'], lakers_2010['elo_n']);\n",
    "l_10_labels = ['10/27/2009', '6/17/2010']\n",
    "plt.xticks(l_10_labels)\n",
    "plt.title(\"Lakers '10 Season\")\n",
    "plt.xlabel(\"Game Date\")\n",
    "plt.ylabel(\"Elo\")\n",
    "plt.show()"
   ]
  },
  {
   "cell_type": "code",
   "execution_count": null,
   "id": "07d506cd-f878-4a77-8e5e-75aaf98eef6e",
   "metadata": {},
   "outputs": [],
   "source": []
  }
 ],
 "metadata": {
  "kernelspec": {
   "display_name": "Python 3 (ipykernel)",
   "language": "python",
   "name": "python3"
  },
  "language_info": {
   "codemirror_mode": {
    "name": "ipython",
    "version": 3
   },
   "file_extension": ".py",
   "mimetype": "text/x-python",
   "name": "python",
   "nbconvert_exporter": "python",
   "pygments_lexer": "ipython3",
   "version": "3.9.7"
  }
 },
 "nbformat": 4,
 "nbformat_minor": 5
}
