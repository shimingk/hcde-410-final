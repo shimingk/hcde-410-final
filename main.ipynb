{
 "cells": [
  {
   "cell_type": "markdown",
   "id": "62ccee4f-0558-485d-949c-c91b4c97fa0c",
   "metadata": {},
   "source": [
    "# Overview and Research Question\n",
    "Live broadcasted sports is a staple cornerstone amongst popular culture. These sports have their own professional leagues and they take on the big screens around the world.\n",
    "One of the most popular sports being televised is basketball with the NBA. Like any other pro sport, there is a factor of sport commentary that can open lengthly discussions on\n",
    "what NBA team is best and can make it to the Playoffs and Finals. Anybody can point to current and more recent NBA team match statistics to determine which NBA team ranks best at the moment, but it can be difficult to quantify how a team is better. With this in mind, I plan to conduct some data analysis on past NBA teams to investigate how might one team's elo<sup>[1]</sup> and how might certain NBA players play into the team's odds of winning championships.\n",
    "\n",
    "## Research Hypothesis/Question\n",
    "- What is the impact of the acquisition of major NBA stars on a team's elo rating and a championship win?\n",
    "\n",
    "# Background/Related Work\n",
    "FiveThirtyEight's usage of the dataset to capture each NBA team's [*relative strength after every game*](https://projects.fivethirtyeight.com/complete-history-of-the-nba/#warriors) shows the trends of their elo every season along with indicators of champtionship wins in a particular year. Their extensive visualizations of each team's elo trend does a great job showing where teams are at the start of the season and how they pan out at the end (with star indicators for winning a championship) of the season.\n",
    "\n",
    "# Methodology\n",
    "With 30 teams currently in the NBA, it is perhaps too big of a scope to look at every team that has won a championship. Therefore, I plan on look at the team with the most championships won: the Boston Celtics and Los Angeles Lakers to asnwer my research question. I chose these two teams because they are currently tied with 17 championships in each of their respective conferences and having an even amount of championship seasons for each team to investigate seems appropriate to compare. For every championship season, I will look into when NBA stars were acquired. These NBA stars that I will be looking into is based on Bleacher Report's rankings<sup>[2], [3]</sup>.\n",
    "\n",
    "To visualize my data and analysis, I plan on producing time series graphs similar to those of FiveThrityEight's, but incorporate when NBA star players joined the Celtics and Lakers. The usage of time series graphs does a good job showing the trend of a team's elo overtime. Adding NBA star players into the graphs can be useful to show how big of an impact they had on helping their team win a championship. I also plan to use bar charts to show the net change of a team's elo since the acquisition of NBA stars. Using bar charts can further help clarify how impactful a NBA star was on their team's elo.\n",
    "\n",
    "# Dataset for Analysis\n",
    "\n",
    "The dataset is from FiveThirtyEight called `nba-elo`. `nba-elo` is discussed in a FiveThirtyEight article called [The Complete History Of The NBA](https://projects.fivethirtyeight.com/complete-history-of-the-nba/#warriors) which accounts for every NBA game played since its inception in 1947. This `nba-elo` dataset is open and can be found on [GitHub](https://github.com/fivethirtyeight/data/tree/master/nba-elo). `nba-forecasts` dataset is also open on [GitHub](https://github.com/fivethirtyeight/data/tree/master/nba-forecasts). Specific game information in the dataset on GitHub is from [Basketball-Reference.com](https://www.basketball-reference.com/). When it comes to licensing and terms of use for these datasets, they are \"available under the [Creative Commons Attribution 4.0 International license](https://creativecommons.org/licenses/by/4.0/), and the code is available under the [MIT license](https://opensource.org/license/mit/)\".\n",
    "Each row in the dataset represent one game between two teams. The row also the date, team names, before and after elo's for each team, and points total for each team. The dataset is appropriate for addressing my research because they present game data that I can grab and compare with each team's elo. \n",
    "In regards to possible ethicial considerations in this dataset, I did not find any piece of information that would impede on personal information and privacy. I assume the current elo for every team to be valid and final based on the assumption that all game scores are final.\n",
    "\n",
    "# Unknowns and Dependencies\n",
    "\n",
    "A limitation to this proposed project and dataset I can see is in regards to my research question. Since a lot of NBA commentary can revolve around individual player performance instead of strictly game results (eg. wins - losses and total points), I anticipate to conduct additional secondary research that involves vetting out major NBA stars that played in the Lakers and Celtics, which is not specified under the dataset described. Another point to note/critique is whether a single NBA star acquisition is the sole cause which resulted in positive impact on a team's elo rating and a championship win.\n",
    "\n",
    "## References\n",
    "\n",
    "1. [How We Calculate NBA Elo Ratings](https://fivethirtyeight.com/features/how-we-calculate-nba-elo-ratings/)\n",
    "2. [anking the Top 25 Players in Boston Celtics History](https://bleacherreport.com/articles/1723418-ranking-the-top-25-players-in-boston-celtics-history)\n",
    "3. [anking the Top 25 Players in LA Lakers History](https://bleacherreport.com/articles/1722087-ranking-the-top-25-players-in-la-lakers-history)"
   ]
  },
  {
   "cell_type": "code",
   "execution_count": null,
   "id": "b160d7c4-e416-4343-9cd4-cc5149312332",
   "metadata": {},
   "outputs": [],
   "source": []
  }
 ],
 "metadata": {
  "kernelspec": {
   "display_name": "Python 3 (ipykernel)",
   "language": "python",
   "name": "python3"
  },
  "language_info": {
   "codemirror_mode": {
    "name": "ipython",
    "version": 3
   },
   "file_extension": ".py",
   "mimetype": "text/x-python",
   "name": "python",
   "nbconvert_exporter": "python",
   "pygments_lexer": "ipython3",
   "version": "3.9.7"
  }
 },
 "nbformat": 4,
 "nbformat_minor": 5
}
