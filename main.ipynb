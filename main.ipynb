{
 "cells": [
  {
   "cell_type": "markdown",
   "id": "62ccee4f-0558-485d-949c-c91b4c97fa0c",
   "metadata": {},
   "source": [
    "# Overview and Research Hypothesis\n",
    "Live broadcasted sports is a staple cornerstone amongst popular culture. These sports have their own professional leagues and they take on the big screens around the world.\n",
    "One of the most popular sports being televised is basketball with the NBA. Like any other pro sport, there is a factor of sport commentary that can open lengthly discussions on\n",
    "what NBA team is best and can make it to the Playoffs and Finals. Anybody can point to current and more recent NBA team match statistics to determine which NBA team ranks best at the moment, but for those who have seen \"better\"\n",
    "teams in the past, it can be difficult to quantify how a team is better. With this in mind, I plan to conduct some data analysis on both past and current (2022-23 season) NBA teams to investigate how might one team's elo<sup>[1]</sup> is relevant to how the team end their season (with a championship or not).\n",
    "\n",
    "## Research Hypothesis/Question(s)\n",
    "- There is no correlation between a team's elo and whether that team wins a championship for a particular season.\n",
    "- Which major NBA star acquisition had a positive impact on a team's elo rating and possibly a championship win?\n",
    "\n",
    "# Background/Related Work\n",
    "FiveThirtyEight's usage of the dataset to capture each NBA team's [*relative strength after every game*](https://projects.fivethirtyeight.com/complete-history-of-the-nba/#warriors) shows the trends of their elo every season along with indicators of champtionship wins in a particular year.\n",
    "\n",
    "# Methodology\n",
    "I plan on utilizing the Pearson correlation to evaluate the correlation coefficient of the elos of NBA teams that won championships. \n",
    "\n",
    "# Dataset for Analysis\n",
    "\n",
    "The datasets are from FiveThirtyEight called `nba-elo` and `nba-forecasts`. `nba-elo` is discussed in a FiveThirtyEight article called [The Complete History Of The NBA](https://projects.fivethirtyeight.com/complete-history-of-the-nba/#warriors) and `nba-forecasts` is used in another FiveThirtyEight article called [2022-23 NBA Predictions](https://projects.fivethirtyeight.com/2023-nba-predictions/) to predict the chances for current NBA teams to make and win the NBA Finals. This `nba-elo` dataset is open and can be found on [GitHub](https://github.com/fivethirtyeight/data/tree/master/nba-elo). `nba-forecasts` dataset is also open on [GitHub](https://github.com/fivethirtyeight/data/tree/master/nba-forecasts). Specific game information in the dataset on GitHub is from [Basketball-Reference.com](https://www.basketball-reference.com/). When it comes to licensing and terms of use for these datasets, they are \"available under the [Creative Commons Attribution 4.0 International license](https://creativecommons.org/licenses/by/4.0/), and the code is available under the [MIT license](https://opensource.org/license/mit/)\".\n",
    "Each row in the datasets represent one game between two teams. The row also the date, team names, before and after elo's for each team, and points total for each team. These datasets are appropriate for addressing my research because they present game data that I can grab and compare with each team's elo. \n",
    "In regards to possible ethicial considerations in these datasets, I did not find any piece of information that would impede on personal information and privacy. I assume the current elo for every team to be valid and final based on the assumption that all game scores are final.\n",
    "\n",
    "# Unknowns and Dependencies\n",
    "\n",
    "A limitation to this proposed project and dataset I can see is in regards to *what makes a **good** NBA team?* Since a lot of NBA commentary can revolve around individual player performance instead of strictly game results (eg. wins - losses and total points), I am concerned if I require additional information/datasets to help with my project.\n",
    "\n",
    "## References\n",
    "[1] [How We Calculate NBA Elo Ratings](https://fivethirtyeight.com/features/how-we-calculate-nba-elo-ratings/)"
   ]
  },
  {
   "cell_type": "code",
   "execution_count": null,
   "id": "b160d7c4-e416-4343-9cd4-cc5149312332",
   "metadata": {},
   "outputs": [],
   "source": []
  }
 ],
 "metadata": {
  "kernelspec": {
   "display_name": "Python 3 (ipykernel)",
   "language": "python",
   "name": "python3"
  },
  "language_info": {
   "codemirror_mode": {
    "name": "ipython",
    "version": 3
   },
   "file_extension": ".py",
   "mimetype": "text/x-python",
   "name": "python",
   "nbconvert_exporter": "python",
   "pygments_lexer": "ipython3",
   "version": "3.9.7"
  }
 },
 "nbformat": 4,
 "nbformat_minor": 5
}
